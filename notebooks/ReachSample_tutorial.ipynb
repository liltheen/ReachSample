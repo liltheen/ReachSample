{
 "cells": [
  {
   "cell_type": "markdown",
   "id": "6b0de14d",
   "metadata": {},
   "source": [
    "# Tutorial for the ReachSample system.\n",
    "###### B Nelson, LBL and UC Berkeley\n",
    "\n",
    "### This tutorial is intended to familiarize a new researcher with both visualizing the ReachMaster robot workspace, as well as the process of generating new commands. This tutorial walks through visualization, generation, and analysis of experiments where a researcher chooses commands manually or command positions within discrete spatial dimensions of task. For more information on the ReachMaster system and how to use it, please visit our ReachtheDocs page at https://reachmaster.readthedocs.io/en/latest/.\n",
    "\n",
    "## Step 1: Initialize the ReachSample command system. Additionally, I'll visualize the pilot data commands below. There is an option to create a .gif of the workspace as well."
   ]
  },
  {
   "cell_type": "code",
   "execution_count": null,
   "id": "16b7382c",
   "metadata": {},
   "outputs": [],
   "source": [
    "# Necessary imports\n",
    "from reach_sample.reach_sample import ReachSample as RS\n",
    "\n",
    "# define necessary parameters.\n",
    "\n",
    "RS_ = RS()\n",
    "RS_.visualize_pilot_workspace(create_gif = False)"
   ]
  }
 ],
 "metadata": {
  "kernelspec": {
   "display_name": "Python 3",
   "language": "python",
   "name": "python3"
  },
  "language_info": {
   "codemirror_mode": {
    "name": "ipython",
    "version": 3
   },
   "file_extension": ".py",
   "mimetype": "text/x-python",
   "name": "python",
   "nbconvert_exporter": "python",
   "pygments_lexer": "ipython3",
   "version": "3.8.5"
  }
 },
 "nbformat": 4,
 "nbformat_minor": 5
}
