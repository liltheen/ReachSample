{
 "cells": [
  {
   "cell_type": "markdown",
   "id": "97ee6f1a",
   "metadata": {},
   "source": [
    "# Tutorial for the ReachSample system.\n",
    "###### B Nelson, LBL and UC Berkeley\n",
    "\n",
    "### This tutorial is intended to familiarize a new researcher with both visualizing the ReachMaster robot workspace, as well as the process of generating new commands. This tutorial walks through visualization, generation, and analysis of experiments where a researcher chooses commands manually or command positions within discrete spatial dimensions of task. For more information on the ReachMaster system and how to use it, please visit our ReachtheDocs page at https://reachmaster.readthedocs.io/en/latest/.\n",
    "\n",
    "## Step 1: Initialize the ReachSample command system. Additionally, I'll visualize the pilot data commands below. There is an option to create a .gif of the workspace as well."
   ]
  },
  {
   "cell_type": "code",
   "execution_count": 1,
   "id": "3b37db48",
   "metadata": {},
   "outputs": [
    {
     "ename": "ValueError",
     "evalue": "all the input array dimensions for the concatenation axis must match exactly, but along dimension 1, the array at index 0 has size 100 and the array at index 5 has size 9",
     "output_type": "error",
     "traceback": [
      "\u001b[1;31m---------------------------------------------------------------------------\u001b[0m",
      "\u001b[1;31mValueError\u001b[0m                                Traceback (most recent call last)",
      "Input \u001b[1;32mIn [1]\u001b[0m, in \u001b[0;36m<cell line: 9>\u001b[1;34m()\u001b[0m\n\u001b[0;32m      5\u001b[0m \u001b[38;5;28;01mfrom\u001b[39;00m \u001b[38;5;21;01mreach_sample\u001b[39;00m \u001b[38;5;28;01mimport\u001b[39;00m ReachSample \u001b[38;5;28;01mas\u001b[39;00m RS\n\u001b[0;32m      7\u001b[0m \u001b[38;5;66;03m# define necessary parameters.\u001b[39;00m\n\u001b[1;32m----> 9\u001b[0m RS_ \u001b[38;5;241m=\u001b[39m \u001b[43mRS\u001b[49m\u001b[43m(\u001b[49m\u001b[43m)\u001b[49m\n\u001b[0;32m     10\u001b[0m RS_\u001b[38;5;241m.\u001b[39mvisualize_pilot_workspace(create_gif \u001b[38;5;241m=\u001b[39m \u001b[38;5;28;01mFalse\u001b[39;00m)\n",
      "File \u001b[1;32m~\\PycharmProjects\\ReachSample\\reach_sample.py:10\u001b[0m, in \u001b[0;36mReachSample.__init__\u001b[1;34m(self)\u001b[0m\n\u001b[0;32m      8\u001b[0m \u001b[38;5;28;01mdef\u001b[39;00m \u001b[38;5;21m__init__\u001b[39m(\u001b[38;5;28mself\u001b[39m):\n\u001b[0;32m      9\u001b[0m     \u001b[38;5;28mself\u001b[39m\u001b[38;5;241m.\u001b[39msampled_robot_commands \u001b[38;5;241m=\u001b[39m \u001b[38;5;241m0\u001b[39m\n\u001b[1;32m---> 10\u001b[0m     \u001b[38;5;28mself\u001b[39m\u001b[38;5;241m.\u001b[39minitial_commands \u001b[38;5;241m=\u001b[39m \u001b[43mc_d\u001b[49m\u001b[38;5;241;43m.\u001b[39;49m\u001b[43minitialize_commands_pilot\u001b[49m\u001b[43m(\u001b[49m\u001b[43m)\u001b[49m\n",
      "File \u001b[1;32m~\\PycharmProjects\\ReachSample\\utils\\command_utils.py:66\u001b[0m, in \u001b[0;36minitialize_commands_pilot\u001b[1;34m()\u001b[0m\n\u001b[0;32m     64\u001b[0m forty_mm \u001b[38;5;241m=\u001b[39m read_command_file(\u001b[38;5;124m'\u001b[39m\u001b[38;5;124mdata/40mm.txt\u001b[39m\u001b[38;5;124m'\u001b[39m)[\u001b[38;5;241m0\u001b[39m:\u001b[38;5;241m9\u001b[39m]\n\u001b[0;32m     65\u001b[0m pilot_3d_positions \u001b[38;5;241m=\u001b[39m read_command_file(\u001b[38;5;124m'\u001b[39m\u001b[38;5;124mdata/9pt_pidiv3_cone.txt\u001b[39m\u001b[38;5;124m'\u001b[39m)\n\u001b[1;32m---> 66\u001b[0m \u001b[38;5;28;01mreturn\u001b[39;00m \u001b[43mnp\u001b[49m\u001b[38;5;241;43m.\u001b[39;49m\u001b[43mvstack\u001b[49m\u001b[43m(\u001b[49m\u001b[43m(\u001b[49m\u001b[43mzero_mm\u001b[49m\u001b[43m,\u001b[49m\u001b[43m \u001b[49m\u001b[43mten_mm\u001b[49m\u001b[43m,\u001b[49m\u001b[43m \u001b[49m\u001b[43mtwenty_mm\u001b[49m\u001b[43m,\u001b[49m\u001b[43m \u001b[49m\u001b[43mthirty_mm\u001b[49m\u001b[43m,\u001b[49m\u001b[43m \u001b[49m\u001b[43mforty_mm\u001b[49m\u001b[43m,\u001b[49m\u001b[43m \u001b[49m\u001b[43mpilot_3d_positions\u001b[49m\u001b[43m)\u001b[49m\u001b[43m)\u001b[49m\n",
      "File \u001b[1;32m<__array_function__ internals>:180\u001b[0m, in \u001b[0;36mvstack\u001b[1;34m(*args, **kwargs)\u001b[0m\n",
      "File \u001b[1;32m~\\anaconda3\\lib\\site-packages\\numpy\\core\\shape_base.py:282\u001b[0m, in \u001b[0;36mvstack\u001b[1;34m(tup)\u001b[0m\n\u001b[0;32m    280\u001b[0m \u001b[38;5;28;01mif\u001b[39;00m \u001b[38;5;129;01mnot\u001b[39;00m \u001b[38;5;28misinstance\u001b[39m(arrs, \u001b[38;5;28mlist\u001b[39m):\n\u001b[0;32m    281\u001b[0m     arrs \u001b[38;5;241m=\u001b[39m [arrs]\n\u001b[1;32m--> 282\u001b[0m \u001b[38;5;28;01mreturn\u001b[39;00m \u001b[43m_nx\u001b[49m\u001b[38;5;241;43m.\u001b[39;49m\u001b[43mconcatenate\u001b[49m\u001b[43m(\u001b[49m\u001b[43marrs\u001b[49m\u001b[43m,\u001b[49m\u001b[43m \u001b[49m\u001b[38;5;241;43m0\u001b[39;49m\u001b[43m)\u001b[49m\n",
      "File \u001b[1;32m<__array_function__ internals>:180\u001b[0m, in \u001b[0;36mconcatenate\u001b[1;34m(*args, **kwargs)\u001b[0m\n",
      "\u001b[1;31mValueError\u001b[0m: all the input array dimensions for the concatenation axis must match exactly, but along dimension 1, the array at index 0 has size 100 and the array at index 5 has size 9"
     ]
    }
   ],
   "source": [
    "# Necessary imports\n",
    "import pdb\n",
    "import os\n",
    "os.chdir('../')\n",
    "from reach_sample import ReachSample as RS\n",
    "\n",
    "# define necessary parameters.\n",
    "\n",
    "RS_ = RS()\n",
    "RS_.visualize_pilot_workspace(create_gif = False)"
   ]
  }
 ],
 "metadata": {
  "kernelspec": {
   "display_name": "Python 3",
   "language": "python",
   "name": "python3"
  },
  "language_info": {
   "codemirror_mode": {
    "name": "ipython",
    "version": 3
   },
   "file_extension": ".py",
   "mimetype": "text/x-python",
   "name": "python",
   "nbconvert_exporter": "python",
   "pygments_lexer": "ipython3",
   "version": "3.8.5"
  }
 },
 "nbformat": 4,
 "nbformat_minor": 5
}
